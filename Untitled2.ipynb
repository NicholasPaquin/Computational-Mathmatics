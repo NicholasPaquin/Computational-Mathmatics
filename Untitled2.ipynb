{
 "cells": [
  {
   "cell_type": "code",
   "execution_count": 1,
   "metadata": {},
   "outputs": [],
   "source": [
    "from machine_learning import Model  # Perceptron, Sigmoid\n",
    "from layers import Sigmoid\n",
    "from operations import Basic\n",
    "from optim import SGD, LogLoss, Quadratic, CrossEntropy, Cost\n",
    "import numpy as np\n",
    "import pandas as pd\n",
    "from benchmark import Network"
   ]
  },
  {
   "cell_type": "code",
   "execution_count": 2,
   "metadata": {},
   "outputs": [],
   "source": [
    "x = np.array([i for i in range(10001)])/1000\n",
    "y = np.array([elem >= 5 for elem in x])\n",
    "data = np.array(np.vstack((x, y)).T)"
   ]
  },
  {
   "cell_type": "code",
   "execution_count": 3,
   "metadata": {},
   "outputs": [
    {
     "data": {
      "text/plain": [
       "array([[0.000e+00, 0.000e+00],\n",
       "       [1.000e-03, 0.000e+00],\n",
       "       [2.000e-03, 0.000e+00],\n",
       "       ...,\n",
       "       [9.998e+00, 1.000e+00],\n",
       "       [9.999e+00, 1.000e+00],\n",
       "       [1.000e+01, 1.000e+00]])"
      ]
     },
     "execution_count": 3,
     "metadata": {},
     "output_type": "execute_result"
    }
   ],
   "source": [
    "data"
   ]
  },
  {
   "cell_type": "code",
   "execution_count": 4,
   "metadata": {},
   "outputs": [
    {
     "name": "stdout",
     "output_type": "stream",
     "text": [
      "Epoch 0: 9578 / 10001\n",
      "Epoch 1: 9487 / 10001\n",
      "Epoch 2: 7847 / 10001\n",
      "Epoch 3: 9901 / 10001\n",
      "Epoch 4: 9803 / 10001\n",
      "Epoch 5: 9217 / 10001\n",
      "Epoch 6: 6327 / 10001\n",
      "Epoch 7: 8882 / 10001\n",
      "Epoch 8: 8646 / 10001\n",
      "Epoch 9: 8212 / 10001\n"
     ]
    }
   ],
   "source": [
    "net = Network([1, 100, 32, 2])\n",
    "net.SGD(data, 10, 100, 0.1, test_data=data)"
   ]
  },
  {
   "cell_type": "code",
   "execution_count": 5,
   "metadata": {},
   "outputs": [
    {
     "data": {
      "text/plain": [
       "array([[ 1.52583392, -1.41161534, -0.74790549, ..., -0.12164643,\n",
       "        -0.12838934,  0.27801711],\n",
       "       [-0.67266547, -0.59105259,  0.63257533, ...,  1.37541646,\n",
       "         0.31565209, -0.67166667],\n",
       "       [-3.26058146,  0.08778024, -2.10793676, ...,  0.36319612,\n",
       "        -1.13914138,  1.32951401],\n",
       "       ...,\n",
       "       [ 0.0448503 ,  0.39762248, -1.26742912, ..., -0.17201515,\n",
       "         0.63073616,  1.17465047],\n",
       "       [ 1.53211395,  1.1310453 ,  0.07853235, ...,  1.48441426,\n",
       "        -0.56555609, -0.08415899],\n",
       "       [-1.19685589, -0.24466518,  0.62321557, ...,  0.02250581,\n",
       "         0.89653316, -1.33585053]])"
      ]
     },
     "execution_count": 5,
     "metadata": {},
     "output_type": "execute_result"
    }
   ],
   "source": [
    "net.weights[-2]"
   ]
  },
  {
   "cell_type": "code",
   "execution_count": 6,
   "metadata": {},
   "outputs": [],
   "source": [
    "layer1 = Sigmoid(1, 100)\n",
    "layer2 = Sigmoid(100, 32)\n",
    "layer3 = Sigmoid(32, 2)"
   ]
  },
  {
   "cell_type": "code",
   "execution_count": 7,
   "metadata": {
    "scrolled": true
   },
   "outputs": [
    {
     "name": "stdout",
     "output_type": "stream",
     "text": [
      "Initialized model\n"
     ]
    }
   ],
   "source": [
    "model = Model([layer1, layer2, layer3], CrossEntropy, SGD)"
   ]
  },
  {
   "cell_type": "code",
   "execution_count": 8,
   "metadata": {
    "scrolled": true
   },
   "outputs": [
    {
     "name": "stdout",
     "output_type": "stream",
     "text": [
      "Epoch 0: 9281 / 10001, Average Cost: 0.976363949547302\n",
      "Epoch 1: 9648 / 10001, Average Cost: 0.4558502366379491\n",
      "Epoch 2: 8901 / 10001, Average Cost: 0.298444165658275\n",
      "Epoch 3: 7832 / 10001, Average Cost: 0.2298759650966074\n",
      "Epoch 4: 6647 / 10001, Average Cost: 0.19059439835000722\n",
      "Epoch 5: 2331 / 10001, Average Cost: 0.1718205505391359\n",
      "Epoch 6: 5435 / 10001, Average Cost: 0.15711646237091273\n",
      "Epoch 7: 5093 / 10001, Average Cost: 0.1343272829372442\n",
      "Epoch 8: 4896 / 10001, Average Cost: 0.12429917873543693\n",
      "Epoch 9: 4759 / 10001, Average Cost: 0.11976293502142034\n",
      "Epoch 10: 4732 / 10001, Average Cost: 0.11134132890641749\n",
      "Epoch 11: 4588 / 10001, Average Cost: 0.10521887321629339\n",
      "Epoch 12: 4533 / 10001, Average Cost: 0.10083151005431244\n",
      "Epoch 13: 4551 / 10001, Average Cost: 0.09706301930490356\n",
      "Epoch 14: 4424 / 10001, Average Cost: 0.0936313611818536\n",
      "Epoch 15: 3932 / 10001, Average Cost: 0.0926955663877296\n",
      "Epoch 16: 4493 / 10001, Average Cost: 0.08880915023226803\n",
      "Epoch 17: 4453 / 10001, Average Cost: 0.0855029005414964\n",
      "Epoch 18: 4452 / 10001, Average Cost: 0.08305313623679783\n",
      "Epoch 19: 4339 / 10001, Average Cost: 0.08036268926866731\n"
     ]
    }
   ],
   "source": [
    "model._optim.SGD(data, 20, 100, 0.05, validation=data)"
   ]
  },
  {
   "cell_type": "code",
   "execution_count": 9,
   "metadata": {},
   "outputs": [
    {
     "data": {
      "text/plain": [
       "array([[-0.1627528 , -1.62725493,  1.23836582, ...,  0.60156664,\n",
       "         0.98753675, -0.39339093],\n",
       "       [ 1.37853576,  0.03887853, -1.35973287, ...,  0.63789398,\n",
       "         1.15061061, -0.73856979],\n",
       "       [-0.23805819,  0.56849606,  0.19442341, ..., -1.60517619,\n",
       "         0.49159475,  1.41561723],\n",
       "       ...,\n",
       "       [ 0.57023278,  0.48079934,  0.52911071, ..., -0.01408326,\n",
       "         1.11288537, -0.34830259],\n",
       "       [-0.44992944,  0.47547934, -0.92266426, ..., -0.38954434,\n",
       "        -0.00884134,  0.07919949],\n",
       "       [ 0.76935616,  0.85714535, -1.04326245, ..., -0.4407281 ,\n",
       "        -0.13382083,  1.17818468]])"
      ]
     },
     "execution_count": 9,
     "metadata": {},
     "output_type": "execute_result"
    }
   ],
   "source": [
    "layer2.weights"
   ]
  },
  {
   "cell_type": "code",
   "execution_count": 10,
   "metadata": {},
   "outputs": [],
   "source": [
    "import numpy as np"
   ]
  },
  {
   "cell_type": "code",
   "execution_count": 11,
   "metadata": {},
   "outputs": [
    {
     "data": {
      "text/plain": [
       "0"
      ]
     },
     "execution_count": 11,
     "metadata": {},
     "output_type": "execute_result"
    }
   ],
   "source": [
    "np.argmax(model.predict(10, False))"
   ]
  },
  {
   "cell_type": "code",
   "execution_count": 12,
   "metadata": {},
   "outputs": [
    {
     "data": {
      "text/plain": [
       "1"
      ]
     },
     "execution_count": 12,
     "metadata": {},
     "output_type": "execute_result"
    }
   ],
   "source": [
    "np.argmax(model.predict(5, False))"
   ]
  },
  {
   "cell_type": "code",
   "execution_count": 13,
   "metadata": {},
   "outputs": [
    {
     "data": {
      "text/plain": [
       "0"
      ]
     },
     "execution_count": 13,
     "metadata": {},
     "output_type": "execute_result"
    }
   ],
   "source": [
    "np.argmax(model.predict(4, False))"
   ]
  },
  {
   "cell_type": "code",
   "execution_count": 14,
   "metadata": {},
   "outputs": [
    {
     "data": {
      "text/plain": [
       "1"
      ]
     },
     "execution_count": 14,
     "metadata": {},
     "output_type": "execute_result"
    }
   ],
   "source": [
    "np.argmax(model.predict(1, False))"
   ]
  },
  {
   "cell_type": "code",
   "execution_count": 15,
   "metadata": {},
   "outputs": [
    {
     "data": {
      "text/plain": [
       "0"
      ]
     },
     "execution_count": 15,
     "metadata": {},
     "output_type": "execute_result"
    }
   ],
   "source": [
    "np.argmax(model.predict(4.90, False))"
   ]
  },
  {
   "cell_type": "code",
   "execution_count": 16,
   "metadata": {},
   "outputs": [
    {
     "data": {
      "text/plain": [
       "array([[1.398, 0.   ],\n",
       "       [6.831, 1.   ],\n",
       "       [8.27 , 1.   ],\n",
       "       ...,\n",
       "       [1.335, 0.   ],\n",
       "       [6.405, 1.   ],\n",
       "       [7.969, 1.   ]])"
      ]
     },
     "execution_count": 16,
     "metadata": {},
     "output_type": "execute_result"
    }
   ],
   "source": [
    "data"
   ]
  },
  {
   "cell_type": "code",
   "execution_count": null,
   "metadata": {},
   "outputs": [],
   "source": []
  }
 ],
 "metadata": {
  "kernelspec": {
   "display_name": "Python 3",
   "language": "python",
   "name": "python3"
  },
  "language_info": {
   "codemirror_mode": {
    "name": "ipython",
    "version": 3
   },
   "file_extension": ".py",
   "mimetype": "text/x-python",
   "name": "python",
   "nbconvert_exporter": "python",
   "pygments_lexer": "ipython3",
   "version": "3.7.4"
  },
  "pycharm": {
   "stem_cell": {
    "cell_type": "raw",
    "metadata": {
     "collapsed": false
    },
    "source": []
   }
  }
 },
 "nbformat": 4,
 "nbformat_minor": 2
}
